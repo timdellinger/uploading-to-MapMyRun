{
 "cells": [
  {
   "cell_type": "code",
   "execution_count": null,
   "id": "electrical-exhaust",
   "metadata": {},
   "outputs": [],
   "source": [
    "# script for uploading .tcx files to MapMyRun via selenium\n",
    "\n",
    "# with the retirement of the Endomodo app, users are being directed to MapMyRun.\n",
    "# I had previously downloaded all of my workouts as .tcx files, and I upload\n",
    "# them here to MapMyRun in order to get stats and have them available to browse\n",
    "# on the app\n",
    "\n",
    "# recall that selenium requires a webdriver (such as gecko for firefox), which\n",
    "# needs to be downloaded, unzipped, and put into /usr/local/bin/\n"
   ]
  },
  {
   "cell_type": "code",
   "execution_count": 12,
   "id": "registered-software",
   "metadata": {},
   "outputs": [],
   "source": [
    "from selenium import webdriver\n",
    "from time import sleep"
   ]
  },
  {
   "cell_type": "code",
   "execution_count": 14,
   "id": "synthetic-essex",
   "metadata": {},
   "outputs": [],
   "source": [
    "# grab a list of the files to upload from a local directory\n",
    "\n",
    "runs_files = !ls runs/"
   ]
  },
  {
   "cell_type": "code",
   "execution_count": 15,
   "id": "useful-decimal",
   "metadata": {},
   "outputs": [
    {
     "data": {
      "text/plain": [
       "222"
      ]
     },
     "execution_count": 15,
     "metadata": {},
     "output_type": "execute_result"
    }
   ],
   "source": [
    "# make sure I got 'em '\n",
    "\n",
    "len(runs_files)"
   ]
  },
  {
   "cell_type": "code",
   "execution_count": 16,
   "id": "convinced-heavy",
   "metadata": {},
   "outputs": [
    {
     "name": "stdout",
     "output_type": "stream",
     "text": [
      "/home/tim/Documents/sim\n"
     ]
    }
   ],
   "source": [
    "!pwd"
   ]
  },
  {
   "cell_type": "code",
   "execution_count": null,
   "id": "regulated-comparison",
   "metadata": {},
   "outputs": [],
   "source": []
  },
  {
   "cell_type": "code",
   "execution_count": 17,
   "id": "quantitative-minimum",
   "metadata": {},
   "outputs": [],
   "source": [
    "# testing to make sure selenium is running smoothly \n",
    "\n",
    "browser = webdriver.Firefox()\n",
    "browser.get('https://news.ycombinator.com/')"
   ]
  },
  {
   "cell_type": "code",
   "execution_count": 46,
   "id": "southern-antigua",
   "metadata": {},
   "outputs": [],
   "source": [
    "# okay, that worked.  \n",
    "\n",
    "browser.close()"
   ]
  },
  {
   "cell_type": "code",
   "execution_count": 26,
   "id": "attached-interview",
   "metadata": {},
   "outputs": [],
   "source": [
    "# spawn a browser and point it at MapMyRun's import page\n",
    "\n",
    "browser = webdriver.Firefox()\n",
    "browser.get(\"https://www.mapmyrun.com/workout/import\")"
   ]
  },
  {
   "cell_type": "code",
   "execution_count": null,
   "id": "injured-passing",
   "metadata": {},
   "outputs": [],
   "source": [
    "# it'll ask for a login, then redirect"
   ]
  },
  {
   "cell_type": "code",
   "execution_count": 33,
   "id": "dominican-maker",
   "metadata": {},
   "outputs": [],
   "source": [
    "# testing the first one\n",
    "\n",
    "browser.find_element_by_id('workoutImport').send_keys('/home/tim/Documents/sim/runs/'+runs_files[0])"
   ]
  },
  {
   "cell_type": "code",
   "execution_count": null,
   "id": "fatal-appraisal",
   "metadata": {},
   "outputs": [],
   "source": [
    "# now I need to push the IMPORT button somehow"
   ]
  },
  {
   "cell_type": "code",
   "execution_count": 35,
   "id": "electronic-possession",
   "metadata": {},
   "outputs": [],
   "source": [
    "# I got the code for identifying the import button via the \"xPath Finder\" firefox addon\n",
    "\n",
    "# I take [0] since find_elements_buy_xpath returns a list\n",
    "\n",
    "the_import_button = browser.find_elements_by_xpath(\"/html/body/div[1]/div/div/div[3]/div/section/div[1]/div/div/button/span/span\")[0]"
   ]
  },
  {
   "cell_type": "code",
   "execution_count": 36,
   "id": "polish-incentive",
   "metadata": {},
   "outputs": [],
   "source": [
    "the_import_button.click()"
   ]
  },
  {
   "cell_type": "code",
   "execution_count": 37,
   "id": "logical-funeral",
   "metadata": {},
   "outputs": [],
   "source": [
    "# finding the \"x\" to dismiss the succsess dialog box\n",
    "\n",
    "the_success_button = browser.find_elements_by_xpath(\"/html/body/div[1]/div/div/div[3]/div/section/div[2]/div/div/div/div[2]/span/span\")[0]"
   ]
  },
  {
   "cell_type": "code",
   "execution_count": 38,
   "id": "oriental-cause",
   "metadata": {},
   "outputs": [],
   "source": [
    "the_success_button.click()"
   ]
  },
  {
   "cell_type": "code",
   "execution_count": null,
   "id": "selected-groove",
   "metadata": {},
   "outputs": [],
   "source": [
    "#\n",
    "# excellent!  now let's do the rest of the list\n",
    "#\n"
   ]
  },
  {
   "cell_type": "code",
   "execution_count": 45,
   "id": "imposed-gender",
   "metadata": {},
   "outputs": [],
   "source": [
    "#  it takes a little time for the website to return a \"success\" dialog... sleep(5) seems to accomodate that\n",
    "#\n",
    "# for some reason, the buttons need to be found every time, so the code to do that is left in the loop\n",
    "#\n",
    "# I added a sleep(2) so that I'm not hammering their server\n",
    "\n",
    "for filename in runs_files[1:]:\n",
    "    browser.find_element_by_id('workoutImport').send_keys('/home/tim/Documents/sim/runs/'+filename)\n",
    "    the_import_button = browser.find_elements_by_xpath(\"/html/body/div[1]/div/div/div[3]/div/section/div[1]/div/div/button/span/span\")[0]\n",
    "    the_import_button.click()\n",
    "    sleep(5)\n",
    "    the_success_button = browser.find_elements_by_xpath(\"/html/body/div[1]/div/div/div[3]/div/section/div[2]/div/div/div/div[2]/span/span\")[0]\n",
    "    the_success_button.click()\n",
    "    sleep(2)\n",
    "    \n",
    "    "
   ]
  },
  {
   "cell_type": "code",
   "execution_count": 44,
   "id": "southern-boxing",
   "metadata": {},
   "outputs": [
    {
     "data": {
      "text/plain": [
       "['20110329_205747.tcx',\n",
       " '20110403_153858.tcx',\n",
       " '20110410_181220.tcx',\n",
       " '20110413_211428.tcx',\n",
       " '20110417_183357.tcx',\n",
       " '20110421_141347.tcx',\n",
       " '20110422_181348.tcx',\n",
       " '20110424_165732.tcx',\n",
       " '20110428_210522.tcx',\n",
       " '20110501_162033.tcx',\n",
       " '20110505_213747.tcx',\n",
       " '20110510_214454.tcx',\n",
       " '20110515_192945.tcx',\n",
       " '20110519_212219.tcx',\n",
       " '20110523_234219.tcx',\n",
       " '20110608_213732.tcx',\n",
       " '20110613_220225.tcx',\n",
       " '20110623_181046.tcx',\n",
       " '20110628_231749.tcx',\n",
       " '20110630_232855.tcx',\n",
       " '20110708_223240.tcx',\n",
       " '20110807_173919.tcx',\n",
       " '20110814_184232.tcx',\n",
       " '20110818_225844.tcx',\n",
       " '20110818_234918.tcx',\n",
       " '20110910_114718.tcx',\n",
       " '20110915_224112.tcx',\n",
       " '20110919_230819.tcx',\n",
       " '20110924_170254.tcx',\n",
       " '20111002_172755.tcx',\n",
       " '20111029_201429.tcx',\n",
       " '20111113_171542.tcx',\n",
       " '20111120_161608.tcx',\n",
       " '20111124_194251.tcx',\n",
       " '20111127_215702.tcx',\n",
       " '20111130_223420.tcx',\n",
       " '20111204_215519.tcx',\n",
       " '20111211_221446.tcx',\n",
       " '20111218_202505.tcx',\n",
       " '20111230_155258.tcx',\n",
       " '20120102_183525.tcx',\n",
       " '20120109_230325.tcx',\n",
       " '20120118_000923.tcx',\n",
       " '20120124_233927.tcx',\n",
       " '20120129_190915.tcx',\n",
       " '20120212_215912.tcx',\n",
       " '20120223_225157.tcx',\n",
       " '20120303_155852.tcx',\n",
       " '20120311_163226.tcx',\n",
       " '20120324_232413.tcx',\n",
       " '20120408_150608.tcx',\n",
       " '20120416_231236.tcx',\n",
       " '20120423_233725.tcx',\n",
       " '20120501_000752.tcx',\n",
       " '20120507_232301.tcx',\n",
       " '20120513_224937.tcx',\n",
       " '20120517_000740.tcx',\n",
       " '20120524_001308.tcx',\n",
       " '20120616_225321.tcx',\n",
       " '20120626_013437.tcx',\n",
       " '20120703_002600.tcx',\n",
       " '20120715_004135.tcx',\n",
       " '20120727_225221.tcx',\n",
       " '20120804_230033.tcx',\n",
       " '20120807_233447.tcx',\n",
       " '20120812_003329.tcx',\n",
       " '20120828_003707.tcx',\n",
       " '20120903_210216.tcx',\n",
       " '20120908_113047.tcx',\n",
       " '20120918_001319.tcx',\n",
       " '20120929_170403.tcx',\n",
       " '20121003_225833.tcx',\n",
       " '20121009_234126.tcx',\n",
       " '20121021_120447.tcx',\n",
       " '20121110_220004.tcx',\n",
       " '20121113_231923.tcx',\n",
       " '20121201_215635.tcx',\n",
       " '20121205_213921.tcx',\n",
       " '20121212_185738.tcx',\n",
       " '20121218_212030.tcx',\n",
       " '20121218_214342.tcx',\n",
       " '20130109_180546.tcx',\n",
       " '20130110_212024.tcx',\n",
       " '20130112_181231.tcx',\n",
       " '20130112_205719.tcx',\n",
       " '20130120_212756.tcx',\n",
       " '20130204_224324.tcx',\n",
       " '20130210_192322.tcx',\n",
       " '20130223_181924.tcx',\n",
       " '20130305_215542.tcx',\n",
       " '20130310_214312.tcx',\n",
       " '20130317_225654.tcx',\n",
       " '20130330_150933.tcx',\n",
       " '20130409_144512.tcx',\n",
       " '20130414_154202.tcx',\n",
       " '20130416_183340.tcx',\n",
       " '20130425_184809.tcx',\n",
       " '20130501_152153.tcx',\n",
       " '20130505_180314.tcx',\n",
       " '20130601_192247.tcx',\n",
       " '20130609_163938.tcx',\n",
       " '20130614_152537.tcx',\n",
       " '20130621_183758.tcx',\n",
       " '20130712_152722.tcx',\n",
       " '20130714_133457.tcx',\n",
       " '20130803_134537.tcx',\n",
       " '20130807_164419.tcx',\n",
       " '20130809_194321.tcx',\n",
       " '20130812_153212.tcx',\n",
       " '20130816_220907.tcx',\n",
       " '20130823_170818.tcx',\n",
       " '20130825_204250.tcx',\n",
       " '20130907_113000.tcx',\n",
       " '20130914_180907.tcx',\n",
       " '20130920_181644.tcx',\n",
       " '20130929_201859.tcx',\n",
       " '20131002_223952.tcx',\n",
       " '20131006_191803.tcx',\n",
       " '20131009_231046.tcx',\n",
       " '20131020_120228.tcx',\n",
       " '20131025_190737.tcx',\n",
       " '20131102_214336.tcx',\n",
       " '20131112_181219.tcx',\n",
       " '20131124_221056.tcx',\n",
       " '20131128_160648.tcx',\n",
       " '20131208_151637.tcx',\n",
       " '20140126_214438.tcx',\n",
       " '20140330_192536.tcx',\n",
       " '20140502_191916.tcx',\n",
       " '20140704_172009.tcx',\n",
       " '20140810_135339.tcx',\n",
       " '20140814_154038.tcx',\n",
       " '20140819_223842.tcx',\n",
       " '20140826_214655.tcx',\n",
       " '20140828_235039.tcx',\n",
       " '20140906_113227.tcx',\n",
       " '20140919_201504.tcx',\n",
       " '20140921_202002.tcx',\n",
       " '20140923_215211.tcx',\n",
       " '20140925_225637.tcx',\n",
       " '20140928_200609.tcx',\n",
       " '20140929_200838.tcx',\n",
       " '20141005_184854.tcx',\n",
       " '20141007_162509.tcx',\n",
       " '20141011_172352.tcx',\n",
       " '20141016_230255.tcx',\n",
       " '20141019_120049.tcx',\n",
       " '20141030_203018.tcx',\n",
       " '20141103_221540.tcx',\n",
       " '20141107_215127.tcx',\n",
       " '20150303_225857.tcx',\n",
       " '20150310_180917.tcx',\n",
       " '20150406_192311.tcx',\n",
       " '20150415_180303.tcx',\n",
       " '20150429_200337.tcx',\n",
       " '20150503_180602.tcx',\n",
       " '20150507_175237.tcx',\n",
       " '20150511_000036.tcx',\n",
       " '20150514_003136.tcx',\n",
       " '20150516_123015.tcx',\n",
       " '20150516_234636.tcx',\n",
       " '20150602_200620.tcx',\n",
       " '20150614_204111.tcx',\n",
       " '20150701_191338.tcx',\n",
       " '20150703_171705.tcx',\n",
       " '20150708_191103.tcx',\n",
       " '20150709_190739.tcx',\n",
       " '20151128_193622.tcx',\n",
       " '20151216_211652.tcx',\n",
       " '20151224_140445.tcx',\n",
       " '20160103_184451.tcx',\n",
       " '20160108_214305.tcx',\n",
       " '20160316_214940.tcx',\n",
       " '20160325_192704.tcx',\n",
       " '20160410_182517.tcx',\n",
       " '20160411_202800.tcx',\n",
       " '20160416_130502.tcx',\n",
       " '20160512_002336.tcx',\n",
       " '20160614_003511.tcx',\n",
       " '20160615_120430.tcx',\n",
       " '20160616_114709.tcx',\n",
       " '20160616_125442.tcx',\n",
       " '20160713_134111.tcx',\n",
       " '20160713_140547.tcx',\n",
       " '20160827_143925.tcx',\n",
       " '20160903_200439.tcx',\n",
       " '20161023_152930.tcx',\n",
       " '20161122_221316.tcx',\n",
       " '20161122_230127.tcx',\n",
       " '20170103_200742.tcx',\n",
       " '20170107_161125.tcx',\n",
       " '20170215_201647.tcx',\n",
       " '20170224_212022.tcx',\n",
       " '20170404_232111.tcx',\n",
       " '20170406_215422.tcx',\n",
       " '20170407_124951.tcx',\n",
       " '20170407_221031.tcx',\n",
       " '20170408_144850.tcx',\n",
       " '20170408_170839.tcx',\n",
       " '20170413_184119.tcx',\n",
       " '20170422_130405.tcx',\n",
       " '20170508_212404.tcx',\n",
       " '20170514_201912.tcx',\n",
       " '20170531_161517.tcx',\n",
       " '20170602_165516.tcx',\n",
       " '20170608_180735.tcx',\n",
       " '20170628_220837.tcx',\n",
       " '20170705_223407.tcx',\n",
       " '20170712_223644.tcx',\n",
       " '20170719_223755.tcx',\n",
       " '20170801_224609.tcx',\n",
       " '20170802_223840.tcx',\n",
       " '20170830_223314.tcx',\n",
       " '20170911_225251.tcx',\n",
       " '20170920_230113.tcx',\n",
       " '20171008_210104.tcx',\n",
       " '20171108_210447.tcx',\n",
       " '20171114_142012.tcx',\n",
       " '20180216_235050.tcx',\n",
       " '20180305_203439.tcx',\n",
       " '20180522_155244.tcx',\n",
       " '20180524_204752.tcx']"
      ]
     },
     "execution_count": 44,
     "metadata": {},
     "output_type": "execute_result"
    }
   ],
   "source": [
    "# a list of the files so that I can watch progress\n",
    "\n",
    "runs_files"
   ]
  }
 ],
 "metadata": {
  "kernelspec": {
   "display_name": "Python 3",
   "language": "python",
   "name": "python3"
  },
  "language_info": {
   "codemirror_mode": {
    "name": "ipython",
    "version": 3
   },
   "file_extension": ".py",
   "mimetype": "text/x-python",
   "name": "python",
   "nbconvert_exporter": "python",
   "pygments_lexer": "ipython3",
   "version": "3.8.5"
  }
 },
 "nbformat": 4,
 "nbformat_minor": 5
}
